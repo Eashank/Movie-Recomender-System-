{
 "cells": [
  {
   "cell_type": "code",
   "execution_count": 1,
   "id": "9e77ced7",
   "metadata": {},
   "outputs": [],
   "source": [
    "import numpy as np\n",
    "import pandas as pd"
   ]
  },
  {
   "cell_type": "code",
   "execution_count": 2,
   "id": "cf51a3db",
   "metadata": {},
   "outputs": [],
   "source": [
    "column_list_ratings = [\"UserID\", \"MovieID\", \"Ratings\",\"Timestamp\"]\n",
    "ratings_data  = pd.read_csv('ratings.dat', sep='::', names = column_list_ratings, engine='python')\n",
    "column_list_movies = [\"MovieID\", \"Title\", \"Genres\"]\n",
    "movies_data = pd.read_csv('movies.dat', sep = '::', names = column_list_movies, engine='python', encoding='iso-8859-1')\n",
    "column_list_users = [\"UserID\", \"Gender\", \"Age\", \"Occupation\", \"Zip-code\"]\n",
    "user_data = pd.read_csv(\"users.dat\", sep = \"::\", names = column_list_users, engine='python')"
   ]
  },
  {
   "cell_type": "code",
   "execution_count": 3,
   "id": "e71d3682",
   "metadata": {},
   "outputs": [
    {
     "name": "stdout",
     "output_type": "stream",
     "text": [
      "(6040, 3952)\n"
     ]
    }
   ],
   "source": [
    "max_user_id = np.max(ratings_data.UserID.values)\n",
    "max_movie_id = np.max(ratings_data.MovieID.values)\n",
    "ratings_matrix = np.ndarray(shape = (max_user_id, max_movie_id), dtype=np.uint8)\n",
    "ratings_matrix[ratings_data.UserID.values - 1, ratings_data.MovieID.values - 1] = ratings_data.Ratings.values\n",
    "print(ratings_matrix.shape)"
   ]
  },
  {
   "cell_type": "code",
   "execution_count": 4,
   "id": "48f6365a",
   "metadata": {},
   "outputs": [
    {
     "name": "stderr",
     "output_type": "stream",
     "text": [
      "/var/folders/dv/jnqxrkbx5_x2fyjcbdhqfr3h0000gn/T/ipykernel_17173/121485826.py:4: RuntimeWarning: invalid value encountered in true_divide\n",
      "  ratings_matrix = (ratings_matrix - mean)/std\n"
     ]
    }
   ],
   "source": [
    "std = ratings_matrix.std(axis = 0)\n",
    "mean = ratings_matrix.mean(axis = 0)\n",
    "# Z-score Normalization\n",
    "ratings_matrix = (ratings_matrix - mean)/std\n",
    "\n",
    "# Making sure we don't have nan values which happens when divided by 0.\n",
    "ratings_matrix[np.isnan(ratings_matrix)] = 0"
   ]
  },
  {
   "cell_type": "code",
   "execution_count": 5,
   "id": "818ce527",
   "metadata": {},
   "outputs": [
    {
     "name": "stdout",
     "output_type": "stream",
     "text": [
      "U Shape:  (6040, 6040) \n",
      "\n",
      "VT Shape:  (3952, 3952) \n",
      "\n",
      "S Shape:  (3952, 3952) \n",
      "\n"
     ]
    }
   ],
   "source": [
    "U, S, VT = np.linalg.svd(ratings_matrix, full_matrices=True)\n",
    "S = np.diag(S)\n",
    "\n",
    "print(\"U Shape: \", U.shape, \"\\n\")\n",
    "print(\"VT Shape: \", VT.shape, \"\\n\")\n",
    "print(\"S Shape: \", S.shape, \"\\n\")"
   ]
  },
  {
   "cell_type": "code",
   "execution_count": 6,
   "id": "a606c793",
   "metadata": {},
   "outputs": [],
   "source": [
    "ranks_dict = {}\n",
    "for r in (100, 1000, 2000, 3000):\n",
    "    ranks_dict[r] = U[:, :r]@S[:r, :r]@VT[:r, :]"
   ]
  },
  {
   "cell_type": "code",
   "execution_count": 7,
   "id": "17a6af80",
   "metadata": {},
   "outputs": [
    {
     "name": "stdout",
     "output_type": "stream",
     "text": [
      "user -  1  and rank -  100 :  -0.4803656455160061\n",
      "user -  2  and rank -  100 :  0.07829760883842156\n",
      "user -  3  and rank -  100 :  -0.06949374727318039\n",
      "\n",
      "\n",
      "user -  1  and rank -  1000 :  -0.5317376879295509\n",
      "user -  2  and rank -  1000 :  0.16743400583236406\n",
      "user -  3  and rank -  1000 :  -0.1801823192251527\n",
      "\n",
      "\n",
      "user -  1  and rank -  2000 :  -0.1924455185277844\n",
      "user -  2  and rank -  2000 :  -0.2714729114815892\n",
      "user -  3  and rank -  2000 :  -0.47038753847043435\n",
      "\n",
      "\n",
      "user -  1  and rank -  3000 :  -0.3837378301306327\n",
      "user -  2  and rank -  3000 :  -0.3585367048689856\n",
      "user -  3  and rank -  3000 :  -0.5975119399601544\n",
      "\n",
      "\n"
     ]
    }
   ],
   "source": [
    "for r in (100, 1000, 2000, 3000):\n",
    "    for u in (0, 1, 2):\n",
    "        print(\"user - \", u + 1, \" and rank - \", r, \": \", ranks_dict[r][u][1376])\n",
    "    print('\\n')"
   ]
  },
  {
   "cell_type": "code",
   "execution_count": 8,
   "id": "e7489a68",
   "metadata": {},
   "outputs": [
    {
     "name": "stdout",
     "output_type": "stream",
     "text": [
      "Most Similar movies to \"Batman Returns (1992)\" with movieId \"1377\" are \n",
      "\n",
      "   Movie ID            Movie Title                     Movie Genres\n",
      "1       153  Batman Forever (1995)    Action|Adventure|Comedy|Crime\n",
      "2      1562  Batman & Robin (1997)           Action|Adventure|Crime\n",
      "3       592          Batman (1989)     Action|Adventure|Crime|Drama\n",
      "4      2616      Dick Tracy (1990)                     Action|Crime\n",
      "5       380       True Lies (1994)  Action|Adventure|Comedy|Romance\n"
     ]
    },
    {
     "name": "stderr",
     "output_type": "stream",
     "text": [
      "/var/folders/dv/jnqxrkbx5_x2fyjcbdhqfr3h0000gn/T/ipykernel_17173/648744400.py:17: RuntimeWarning: invalid value encountered in true_divide\n",
      "  cosine_similarities = XTY / modX_modY\n"
     ]
    }
   ],
   "source": [
    "def magnitude(arr):\n",
    "    return np.sqrt(arr@arr)\n",
    "\n",
    "def find_movie_data(movie_data, movieID):\n",
    "    return movie_data[movieID == movie_data.MovieID.values].values[0]\n",
    "\n",
    "# Sort the movies based on cosine similarity\n",
    "def top_cosine_similarity(data, movie_id, top_n=5):\n",
    "    movie_index = movie_id - 1\n",
    "    movie_column = data[:, movie_index]\n",
    "    movie_magnitude = magnitude(movie_column)\n",
    "\n",
    "    magnitudes_array = np.apply_along_axis(magnitude, 0, data)\n",
    "\n",
    "    XTY = np.dot(movie_column, data)\n",
    "    modX_modY = movie_magnitude * magnitudes_array\n",
    "    cosine_similarities = XTY / modX_modY\n",
    "    cosine_similarities[np.isnan(cosine_similarities)] = -1\n",
    "\n",
    "    similar_movie_indexes = np.argsort(cosine_similarities)[::-1][1:top_n + 1]\n",
    "    return similar_movie_indexes\n",
    "\n",
    "def print_similar_movies(movie_data, movieID, top_indexes):\n",
    "    print(\n",
    "        f'Most Similar movies to \"{find_movie_data(movie_data, movieID)[1]}\" with movieId \"{movieID}\" are',\n",
    "        '\\n'\n",
    "    )\n",
    "    titles = np.array(())\n",
    "    genres = np.array(())\n",
    "    for i in top_indexes:\n",
    "        particular_movie_data = find_movie_data(movie_data, i + 1)\n",
    "        titles = np.append(titles, particular_movie_data[1])\n",
    "        genres = np.append(genres, particular_movie_data[2])\n",
    "    similar_movies_df = pd.DataFrame({\"Movie ID\": top_indexes + 1, \"Movie Title\": titles, \"Movie Genres\": genres})\n",
    "    similar_movies_df.index += 1\n",
    "    print(similar_movies_df)\n",
    "\n",
    "\n",
    "movie_id = 1377\n",
    "top_similar_indexes = top_cosine_similarity(ranks_dict[1000], movie_id, 5)\n",
    "print_similar_movies(movies_data, movie_id, top_similar_indexes)"
   ]
  }
 ],
 "metadata": {
  "kernelspec": {
   "display_name": "Python 3 (ipykernel)",
   "language": "python",
   "name": "python3"
  },
  "language_info": {
   "codemirror_mode": {
    "name": "ipython",
    "version": 3
   },
   "file_extension": ".py",
   "mimetype": "text/x-python",
   "name": "python",
   "nbconvert_exporter": "python",
   "pygments_lexer": "ipython3",
   "version": "3.8.10"
  }
 },
 "nbformat": 4,
 "nbformat_minor": 5
}
